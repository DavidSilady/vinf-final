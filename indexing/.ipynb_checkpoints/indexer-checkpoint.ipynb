{
 "cells": [
  {
   "cell_type": "code",
   "execution_count": 1,
   "metadata": {},
   "outputs": [],
   "source": [
    "import lucene\n",
    "from java.nio.file import Paths\n",
    "from org.apache.lucene.analysis.standard import StandardAnalyzer\n",
    "from org.apache.lucene.index import IndexWriter, IndexWriterConfig, DirectoryReader\n",
    "from org.apache.lucene.search import IndexSearcher\n",
    "from org.apache.lucene.document import Document, Field, StringField, TextField, IntPoint\n",
    "from org.apache.lucene.store import SimpleFSDirectory\n",
    "from org.apache.lucene.queryparser.classic import QueryParser\n",
    "import simplemma\n",
    "import csv"
   ]
  },
  {
   "cell_type": "code",
   "execution_count": 2,
   "metadata": {},
   "outputs": [],
   "source": [
    "# path config for links\n",
    "\n",
    "csv_data_path = \"/data/processing/data/output/links.csv\"\n",
    "index_path = \"/data/indexes/links\""
   ]
  },
  {
   "cell_type": "code",
   "execution_count": 3,
   "metadata": {},
   "outputs": [
    {
     "data": {
      "text/plain": [
       "<jcc.JCCEnv at 0x7fe8a8127d30>"
      ]
     },
     "execution_count": 3,
     "metadata": {},
     "output_type": "execute_result"
    }
   ],
   "source": [
    "lucene.initVM(vmargs=['-Djava.awt.headless=true'])"
   ]
  },
  {
   "cell_type": "code",
   "execution_count": 4,
   "metadata": {},
   "outputs": [],
   "source": [
    "# define writer and store\n",
    "\n",
    "store = SimpleFSDirectory(Paths.get(index_path))\n",
    "analyzer = StandardAnalyzer()\n",
    "config = IndexWriterConfig(analyzer)\n",
    "config.setOpenMode(IndexWriterConfig.OpenMode.CREATE)\n",
    "writer = IndexWriter(store, config)"
   ]
  },
  {
   "cell_type": "code",
   "execution_count": 5,
   "metadata": {
    "scrolled": true
   },
   "outputs": [],
   "source": [
    "# index links \n",
    "\n",
    "with open(csv_data_path) as f:\n",
    "    file = csv.DictReader(f, fieldnames=['lemma', 'form', 'postfix'])\n",
    "    for row in file:\n",
    "        doc = Document()\n",
    "        \n",
    "        doc.add(Field('lemma', row['lemma'].lower(), StringField.TYPE_STORED))\n",
    "        doc.add(Field('form', row['form'].lower(), StringField.TYPE_STORED))\n",
    "        doc.add(Field('postfix', row['postfix'].lower(), StringField.TYPE_STORED))\n",
    "        doc.add(Field('content', str(row), TextField.TYPE_STORED))\n",
    "        \n",
    "        writer.addDocument(doc)\n",
    "        \n",
    "    writer.commit()\n",
    "    writer.close()"
   ]
  },
  {
   "cell_type": "code",
   "execution_count": 6,
   "metadata": {},
   "outputs": [],
   "source": [
    "# path config for sentences\n",
    "\n",
    "sen_data_path = \"/data/processing/data/output/sentences.csv\"\n",
    "sen_index_path = \"/data/indexes/sentences\""
   ]
  },
  {
   "cell_type": "code",
   "execution_count": 7,
   "metadata": {},
   "outputs": [],
   "source": [
    "# define writer and store\n",
    "\n",
    "store = SimpleFSDirectory(Paths.get(sen_index_path))\n",
    "analyzer = StandardAnalyzer()\n",
    "config = IndexWriterConfig(analyzer)\n",
    "config.setOpenMode(IndexWriterConfig.OpenMode.CREATE)\n",
    "writer = IndexWriter(store, config)"
   ]
  },
  {
   "cell_type": "code",
   "execution_count": 9,
   "metadata": {},
   "outputs": [],
   "source": [
    "# index sentences\n",
    "\n",
    "with open(sen_data_path) as f:\n",
    "    file = csv.DictReader(f, fieldnames=['sentence'])\n",
    "    for row in file:\n",
    "        doc = Document()\n",
    "        doc.add(Field('content', row['sentence'], TextField.TYPE_STORED))\n",
    "        writer.addDocument(doc)\n",
    "        \n",
    "    writer.commit()\n",
    "    writer.close()"
   ]
  },
  {
   "cell_type": "code",
   "execution_count": 15,
   "metadata": {},
   "outputs": [
    {
     "name": "stdout",
     "output_type": "stream",
     "text": [
      "Content: Po čase sa stal kráľom tohto ostrova, ktorý dostal po ňom meno Teneda.\n",
      "Content: Tennes alebo Tennés alebo Tenés je v gréckej mytológii syn boha Apolóna a dcéry trójskeho kráľa Laomedonta Prokleie, kráľ ostrova Teneda.\n"
     ]
    }
   ],
   "source": [
    "sentences_index_path = \"/data/indexes/sentences\"\n",
    "sentences_directory = SimpleFSDirectory(Paths.get(sentences_index_path))\n",
    "sentences_searcher = IndexSearcher(DirectoryReader.open(sentences_directory))\n",
    "analyzer = StandardAnalyzer()\n",
    "\n",
    "query = QueryParser(\"content\", analyzer).parse(\"teneda\")\n",
    "score_docs = sentences_searcher.search(query, 2).scoreDocs\n",
    "\n",
    "for score_doc in score_docs:\n",
    "    doc = sentences_searcher.doc(score_doc.doc)\n",
    "    print(\"Content:\", doc.get(\"content\"))"
   ]
  },
  {
   "cell_type": "code",
   "execution_count": 44,
   "metadata": {},
   "outputs": [],
   "source": [
    "from org.apache.lucene.search import BooleanQuery, BooleanClause\n",
    "\n",
    "links_index_path = \"/data/indexes/links\"\n",
    "links_directory = SimpleFSDirectory(Paths.get(links_index_path))\n",
    "links_searcher = IndexSearcher(DirectoryReader.open(links_directory))\n",
    "analyzer = StandardAnalyzer()\n",
    "\n",
    "def search(word, distance=0, num=5):\n",
    "    query = BooleanQuery.Builder()\n",
    "    form_parser = QueryParser(\"form\", analyzer).parse(word + \"~\" + str(distance))\n",
    "    lemma_parser = QueryParser(\"lemma\", analyzer).parse(word + \"~\" + str(distance))\n",
    "    query.add(form_parser, BooleanClause.Occur.SHOULD)\n",
    "    query.add(lemma_parser, BooleanClause.Occur.SHOULD)\n",
    "    built_query = query.build()\n",
    "    score_docs = links_searcher.search(built_query, num).scoreDocs\n",
    "    print(\"=======================================================\")\n",
    "    print(\"Word:\", word)\n",
    "    print(\"Distance:\", distance)\n",
    "\n",
    "    for i, score_doc in enumerate(score_docs):\n",
    "        print(\"-------------------------------\")\n",
    "        print(\"Result\", i)\n",
    "        doc = links_searcher.doc(score_doc.doc)\n",
    "        print('lemma:', doc.get(\"lemma\"))\n",
    "        print('postfix:', doc.get(\"postfix\"))\n",
    "        print('content:', doc.get(\"content\"))\n",
    "\n",
    "#     if len(score_docs) == 0:\n",
    "#         print(\"Result\")\n",
    "#         print(\"simplemma:\", simplemma.lemmatize(word, lang_data))\n",
    "\n",
    "#     examples = search_examples(word)\n",
    "#     if len(examples) != 0:\n",
    "#         print(\"examples:\")\n",
    "#     for example in examples:\n",
    "#         print(example)\n"
   ]
  },
  {
   "cell_type": "code",
   "execution_count": 45,
   "metadata": {},
   "outputs": [
    {
     "name": "stdout",
     "output_type": "stream",
     "text": [
      "=======================================================\n",
      "Word: teneda\n",
      "Distance: 0\n",
      "-------------------------------\n",
      "Result 0\n",
      "lemma: tenedos\n",
      "postfix: \n",
      "content: {'lemma': 'Tenedos', 'form': 'Teneda', 'postfix': ''}\n"
     ]
    }
   ],
   "source": [
    "search(\"teneda\")"
   ]
  },
  {
   "cell_type": "code",
   "execution_count": null,
   "metadata": {},
   "outputs": [],
   "source": []
  }
 ],
 "metadata": {
  "kernelspec": {
   "display_name": "Python 3 (ipykernel)",
   "language": "python",
   "name": "python3"
  },
  "language_info": {
   "codemirror_mode": {
    "name": "ipython",
    "version": 3
   },
   "file_extension": ".py",
   "mimetype": "text/x-python",
   "name": "python",
   "nbconvert_exporter": "python",
   "pygments_lexer": "ipython3",
   "version": "3.10.1"
  }
 },
 "nbformat": 4,
 "nbformat_minor": 1
}
